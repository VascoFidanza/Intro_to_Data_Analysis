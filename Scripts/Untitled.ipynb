{
 "cells": [
  {
   "cell_type": "code",
   "execution_count": 2,
   "id": "f0e3e2a4",
   "metadata": {},
   "outputs": [],
   "source": [
    "import pandas as pd"
   ]
  },
  {
   "cell_type": "code",
   "execution_count": 4,
   "id": "2e411bc8",
   "metadata": {},
   "outputs": [],
   "source": [
    "# Define file paths\n",
    "cleanedEnrollments = '/Users/vascofidanza/Documents/Data Analytics Projects/Udacity/Intro_to_Data_Analysis/Data/cleanedEnrollments.csv'\n",
    "cleanedEngagement = '/Users/vascofidanza/Documents/Data Analytics Projects/Udacity/Intro_to_Data_Analysis/Data/cleanedEngagement.csv'\n",
    "cleanedSubmissions = '/Users/vascofidanza/Documents/Data Analytics Projects/Udacity/Intro_to_Data_Analysis/Data/cleanedSubmissions.csv'"
   ]
  },
  {
   "cell_type": "code",
   "execution_count": 5,
   "id": "36c80dd8",
   "metadata": {},
   "outputs": [],
   "source": [
    "def load_data(file_path, parse_dates=[]):\n",
    "    \"\"\"Load the CSV file into a DataFrame.\"\"\"\n",
    "    return pd.read_csv(file_path, parse_dates=parse_dates)"
   ]
  },
  {
   "cell_type": "code",
   "execution_count": 7,
   "id": "7a4cda7f",
   "metadata": {},
   "outputs": [],
   "source": [
    "# Load the cleaned data\n",
    "enrollments = load_data(cleanedEnrollments, parse_dates=['join_date', 'cancel_date'])\n",
    "engagement = load_data(cleanedEngagement, parse_dates=['utc_date'])\n",
    "submissions = load_data(cleanedSubmissions, parse_dates=['creation_date', 'completion_date'])"
   ]
  },
  {
   "cell_type": "code",
   "execution_count": 9,
   "id": "78b619f6",
   "metadata": {},
   "outputs": [
    {
     "name": "stdout",
     "output_type": "stream",
     "text": [
      "Index(['account_key', 'status', 'join_date', 'cancel_date', 'days_to_cancel',\n",
      "       'is_udacity', 'is_canceled'],\n",
      "      dtype='object')\n",
      "Index(['account_key', 'utc_date', 'num_courses_visited',\n",
      "       'total_minutes_visited', 'lessons_completed', 'projects_completed'],\n",
      "      dtype='object')\n"
     ]
    }
   ],
   "source": [
    "print(enrollments.columns)\n",
    "print(engagement.columns)"
   ]
  },
  {
   "cell_type": "code",
   "execution_count": 20,
   "id": "61296453",
   "metadata": {},
   "outputs": [
    {
     "name": "stdout",
     "output_type": "stream",
     "text": [
      "[ 448  700  429 ... 1116  874  686]\n",
      "[   0    1    2 ... 1302 1303 1305]\n"
     ]
    }
   ],
   "source": [
    "# Find unique student IDs in both datasets\n",
    "unique_enrolled_students = enrollments['account_key'].unique()\n",
    "unique_engaged_students = engagement['account_key'].unique()\n",
    "print(unique_enrolled_students)\n",
    "print(unique_engaged_students)"
   ]
  },
  {
   "cell_type": "code",
   "execution_count": 25,
   "id": "326641c4",
   "metadata": {},
   "outputs": [
    {
     "name": "stdout",
     "output_type": "stream",
     "text": [
      "{1025, 1145, 1155, 1284, 1273, 902, 1291, 654, 914, 1171, 1044, 789, 664, 1304, 926, 799, 802, 803, 1186, 1190, 1063, 1191, 1069, 817, 819, 1079, 1213, 1086, 1218, 707, 964, 1219, 1222, 711, 968, 841, 717, 1101, 725, 981, 727, 728, 1237, 1238, 1241, 733, 1120, 737, 739, 996, 997, 870, 871, 1125, 1129, 875, 749, 750, 878, 1010, 884, 1270, 889, 1148, 766}\n"
     ]
    }
   ],
   "source": [
    "# Find students present in enrollments but not in engagement\n",
    "missing_students = set(unique_enrolled_students) - set(unique_engaged_students)\n",
    "print(missing_students)"
   ]
  },
  {
   "cell_type": "code",
   "execution_count": 18,
   "id": "5ac589fc",
   "metadata": {},
   "outputs": [
    {
     "name": "stdout",
     "output_type": "stream",
     "text": [
      "      account_key    status  join_date cancel_date  days_to_cancel  \\\n",
      "65           1219  canceled 2014-11-12  2014-11-12               0   \n",
      "75            871  canceled 2014-11-13  2014-11-13               0   \n",
      "193          1218  canceled 2014-11-15  2014-11-15               0   \n",
      "216           654  canceled 2014-12-04  2014-12-04               0   \n",
      "217           654  canceled 2014-12-04  2014-12-04               0   \n",
      "...           ...       ...        ...         ...             ...   \n",
      "1501         1079  canceled 2015-02-09  2015-02-09               0   \n",
      "1543         1063  canceled 2015-07-14  2015-07-14               0   \n",
      "1563         1270  canceled 2015-07-20  2015-07-20               0   \n",
      "1608         1291  canceled 2015-06-03  2015-06-03               0   \n",
      "1613         1241  canceled 2015-06-09  2015-06-09               0   \n",
      "\n",
      "      is_udacity  is_canceled  \n",
      "65         False         True  \n",
      "75         False         True  \n",
      "193        False         True  \n",
      "216        False         True  \n",
      "217        False         True  \n",
      "...          ...          ...  \n",
      "1501       False         True  \n",
      "1543       False         True  \n",
      "1563       False         True  \n",
      "1608       False         True  \n",
      "1613       False         True  \n",
      "\n",
      "[71 rows x 7 columns]\n"
     ]
    }
   ],
   "source": [
    "# Filter the enrollments DataFrame to show records of missing students\n",
    "missing_students_rows = enrollments[enrollments['account_key'].isin(missing_students)]\n",
    "print(missing_students_rows)"
   ]
  },
  {
   "cell_type": "code",
   "execution_count": null,
   "id": "6063e3fc",
   "metadata": {},
   "outputs": [],
   "source": []
  },
  {
   "cell_type": "code",
   "execution_count": null,
   "id": "a6a8f24c",
   "metadata": {},
   "outputs": [],
   "source": []
  },
  {
   "cell_type": "code",
   "execution_count": null,
   "id": "63ffc655",
   "metadata": {},
   "outputs": [],
   "source": []
  },
  {
   "cell_type": "code",
   "execution_count": null,
   "id": "ce2947ad",
   "metadata": {},
   "outputs": [],
   "source": []
  },
  {
   "cell_type": "code",
   "execution_count": null,
   "id": "adddcb4c",
   "metadata": {},
   "outputs": [],
   "source": []
  },
  {
   "cell_type": "code",
   "execution_count": null,
   "id": "2638c5c4",
   "metadata": {},
   "outputs": [],
   "source": []
  },
  {
   "cell_type": "code",
   "execution_count": null,
   "id": "4dbb0015",
   "metadata": {},
   "outputs": [],
   "source": []
  },
  {
   "cell_type": "code",
   "execution_count": null,
   "id": "d17208d0",
   "metadata": {},
   "outputs": [],
   "source": []
  },
  {
   "cell_type": "code",
   "execution_count": null,
   "id": "598260a4",
   "metadata": {},
   "outputs": [],
   "source": []
  },
  {
   "cell_type": "code",
   "execution_count": null,
   "id": "d0ac8b39",
   "metadata": {},
   "outputs": [],
   "source": []
  }
 ],
 "metadata": {
  "kernelspec": {
   "display_name": "Python 3 (ipykernel)",
   "language": "python",
   "name": "python3"
  },
  "language_info": {
   "codemirror_mode": {
    "name": "ipython",
    "version": 3
   },
   "file_extension": ".py",
   "mimetype": "text/x-python",
   "name": "python",
   "nbconvert_exporter": "python",
   "pygments_lexer": "ipython3",
   "version": "3.11.4"
  }
 },
 "nbformat": 4,
 "nbformat_minor": 5
}
